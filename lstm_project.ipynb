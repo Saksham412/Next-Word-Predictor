{
  "nbformat": 4,
  "nbformat_minor": 0,
  "metadata": {
    "colab": {
      "provenance": [],
      "gpuType": "T4"
    },
    "kernelspec": {
      "name": "python3",
      "display_name": "Python 3"
    },
    "language_info": {
      "name": "python"
    },
    "accelerator": "GPU"
  },
  "cells": [
    {
      "cell_type": "code",
      "execution_count": 1,
      "metadata": {
        "id": "IrmA3eaj3kF0"
      },
      "outputs": [],
      "source": [
        "faqs = \"\"\"About the Program\n",
        "What is the course fee for  Data Science Mentorship Program (DSMP 2023)\n",
        "The course follows a monthly subscription model where you have to make monthly payments of Rs 799/month.\n",
        "What is the total duration of the course?\n",
        "The total duration of the course is 7 months. So the total course fee becomes 799*7 = Rs 5600(approx.)\n",
        "What is the syllabus of the mentorship program?\n",
        "We will be covering the following modules:\n",
        "Python Fundamentals\n",
        "Python libraries for Data Science\n",
        "Data Analysis\n",
        "SQL for Data Science\n",
        "Maths for Machine Learning\n",
        "ML Algorithms\n",
        "Practical ML\n",
        "MLOPs\n",
        "Case studies\n",
        "You can check the detailed syllabus here - https://learnwith.campusx.in/courses/CampusX-Data-Science-Mentorship-Program-637339afe4b0615a1bbed390\n",
        "Will Deep Learning and NLP be a part of this program?\n",
        "No, NLP and Deep Learning both are not a part of this program’s curriculum.\n",
        "What if I miss a live session? Will I get a recording of the session?\n",
        "Yes all our sessions are recorded, so even if you miss a session you can go back and watch the recording.\n",
        "Where can I find the class schedule?\n",
        "Checkout this google sheet to see month by month time table of the course - https://docs.google.com/spreadsheets/d/16OoTax_A6ORAeCg4emgexhqqPv3noQPYKU7RJ6ArOzk/edit?usp=sharing.\n",
        "What is the time duration of all the live sessions?\n",
        "Roughly, all the sessions last 2 hours.\n",
        "What is the language spoken by the instructor during the sessions?\n",
        "Hinglish\n",
        "How will I be informed about the upcoming class?\n",
        "You will get a mail from our side before every paid session once you become a paid user.\n",
        "Can I do this course if I am from a non-tech background?\n",
        "Yes, absolutely.\n",
        "I am late, can I join the program in the middle?\n",
        "Absolutely, you can join the program anytime.\n",
        "If I join/pay in the middle, will I be able to see all the past lectures?\n",
        "Yes, once you make the payment you will be able to see all the past content in your dashboard.\n",
        "Where do I have to submit the task?\n",
        "You don’t have to submit the task. We will provide you with the solutions, you have to self evaluate the task yourself.\n",
        "Will we do case studies in the program?\n",
        "Yes.\n",
        "Where can we contact you?\n",
        "You can mail us at nitish.campusx@gmail.com\n",
        "Payment/Registration related questions\n",
        "Where do we have to make our payments? Your YouTube channel or website?\n",
        "You have to make all your monthly payments on our website. Here is the link for our website - https://learnwith.campusx.in/\n",
        "Can we pay the entire amount of Rs 5600 all at once?\n",
        "Unfortunately no, the program follows a monthly subscription model.\n",
        "What is the validity of monthly subscription? Suppose if I pay on 15th Jan, then do I have to pay again on 1st Feb or 15th Feb\n",
        "15th Feb. The validity period is 30 days from the day you make the payment. So essentially you can join anytime you don’t have to wait for a month to end.\n",
        "What if I don’t like the course after making the payment. What is the refund policy?\n",
        "You get a 7 days refund period from the day you have made the payment.\n",
        "I am living outside India and I am not able to make the payment on the website, what should I do?\n",
        "You have to contact us by sending a mail at nitish.campusx@gmail.com\n",
        "Post registration queries\n",
        "Till when can I view the paid videos on the website?\n",
        "This one is tricky, so read carefully. You can watch the videos till your subscription is valid. Suppose you have purchased subscription on 21st Jan, you will be able to watch all the past paid sessions in the period of 21st Jan to 20th Feb. But after 21st Feb you will have to purchase the subscription again.\n",
        "But once the course is over and you have paid us Rs 5600(or 7 installments of Rs 799) you will be able to watch the paid sessions till Aug 2024.\n",
        "Why lifetime validity is not provided?\n",
        "Because of the low course fee.\n",
        "Where can I reach out in case of a doubt after the session?\n",
        "You will have to fill a google form provided in your dashboard and our team will contact you for a 1 on 1 doubt clearance session\n",
        "If I join the program late, can I still ask past week doubts?\n",
        "Yes, just select past week doubt in the doubt clearance google form.\n",
        "I am living outside India and I am not able to make the payment on the website, what should I do?\n",
        "You have to contact us by sending a mail at nitish.campusx@gmai.com\n",
        "Certificate and Placement Assistance related queries\n",
        "What is the criteria to get the certificate?\n",
        "There are 2 criterias:\n",
        "You have to pay the entire fee of Rs 5600\n",
        "You have to attempt all the course assessments.\n",
        "I am joining late. How can I pay payment of the earlier months?\n",
        "You will get a link to pay fee of earlier months in your dashboard once you pay for the current month.\n",
        "I have read that Placement assistance is a part of this program. What comes under Placement assistance?\n",
        "This is to clarify that Placement assistance does not mean Placement guarantee. So we dont guarantee you any jobs or for that matter even interview calls. So if you are planning to join this course just for placements, I am afraid you will be disappointed. Here is what comes under placement assistance\n",
        "Portfolio Building sessions\n",
        "Soft skill sessions\n",
        "Sessions with industry mentors\n",
        "Discussion on Job hunting strategies\n",
        "\"\"\""
      ]
    },
    {
      "cell_type": "code",
      "source": [
        "import tensorflow as tf\n",
        "from tensorflow.keras.preprocessing.text import Tokenizer"
      ],
      "metadata": {
        "id": "J1D42emD32Ro"
      },
      "execution_count": 2,
      "outputs": []
    },
    {
      "cell_type": "code",
      "source": [
        "tokenizer = Tokenizer()"
      ],
      "metadata": {
        "id": "KhtDxwL_AXFj"
      },
      "execution_count": 3,
      "outputs": []
    },
    {
      "cell_type": "code",
      "source": [
        "tokenizer.fit_on_texts([faqs])"
      ],
      "metadata": {
        "id": "K8MRFre9AaG9"
      },
      "execution_count": 4,
      "outputs": []
    },
    {
      "cell_type": "code",
      "source": [
        "len(tokenizer.word_index)"
      ],
      "metadata": {
        "colab": {
          "base_uri": "https://localhost:8080/"
        },
        "id": "YrpAl3EDAgvh",
        "outputId": "b7359149-6e5b-4ebc-a101-739dcc190442"
      },
      "execution_count": 5,
      "outputs": [
        {
          "output_type": "execute_result",
          "data": {
            "text/plain": [
              "282"
            ]
          },
          "metadata": {},
          "execution_count": 5
        }
      ]
    },
    {
      "cell_type": "code",
      "source": [
        "input_sequences = []\n",
        "for sentence in faqs.split('\\n'):\n",
        "  tokenized_sentence = tokenizer.texts_to_sequences([sentence])[0]\n",
        "\n",
        "  for i in range(1,len(tokenized_sentence)):\n",
        "    input_sequences.append(tokenized_sentence[:i+1])"
      ],
      "metadata": {
        "id": "44VahqKdAjr9"
      },
      "execution_count": 6,
      "outputs": []
    },
    {
      "cell_type": "code",
      "source": [
        "input_sequences"
      ],
      "metadata": {
        "id": "UyqwPDzNA5mR"
      },
      "execution_count": null,
      "outputs": []
    },
    {
      "cell_type": "code",
      "source": [
        "max_len = max([len(x) for x in input_sequences])"
      ],
      "metadata": {
        "id": "CrzbvUUQCXPU"
      },
      "execution_count": 8,
      "outputs": []
    },
    {
      "cell_type": "code",
      "source": [
        "from tensorflow.keras.preprocessing.sequence import pad_sequences\n",
        "padded_input_sequences = pad_sequences(input_sequences, maxlen = max_len, padding='pre')"
      ],
      "metadata": {
        "id": "9oPMoWBSD1_U"
      },
      "execution_count": 9,
      "outputs": []
    },
    {
      "cell_type": "code",
      "source": [
        "padded_input_sequences"
      ],
      "metadata": {
        "colab": {
          "base_uri": "https://localhost:8080/"
        },
        "id": "miRb-QZyIi7_",
        "outputId": "3c88033f-692c-479f-9387-7830f3708964"
      },
      "execution_count": 10,
      "outputs": [
        {
          "output_type": "execute_result",
          "data": {
            "text/plain": [
              "array([[  0,   0,   0, ...,   0,  93,   1],\n",
              "       [  0,   0,   0, ...,  93,   1,  13],\n",
              "       [  0,   0,   0, ...,   0,  11,   7],\n",
              "       ...,\n",
              "       [  0,   0,   0, ..., 279,  18, 280],\n",
              "       [  0,   0,   0, ...,  18, 280, 281],\n",
              "       [  0,   0,   0, ..., 280, 281, 282]], dtype=int32)"
            ]
          },
          "metadata": {},
          "execution_count": 10
        }
      ]
    },
    {
      "cell_type": "code",
      "source": [
        "X = padded_input_sequences[:,:-1]"
      ],
      "metadata": {
        "id": "qVI0-UUrIsd3"
      },
      "execution_count": 11,
      "outputs": []
    },
    {
      "cell_type": "code",
      "source": [
        "y = padded_input_sequences[:,-1]"
      ],
      "metadata": {
        "id": "lXrYHTDFI3uE"
      },
      "execution_count": 12,
      "outputs": []
    },
    {
      "cell_type": "code",
      "source": [
        "X.shape"
      ],
      "metadata": {
        "colab": {
          "base_uri": "https://localhost:8080/"
        },
        "id": "kmsFnHx1Qdow",
        "outputId": "cc3b55ea-07fc-4591-ce57-76a323782512"
      },
      "execution_count": 13,
      "outputs": [
        {
          "output_type": "execute_result",
          "data": {
            "text/plain": [
              "(863, 56)"
            ]
          },
          "metadata": {},
          "execution_count": 13
        }
      ]
    },
    {
      "cell_type": "code",
      "source": [
        "y.shape"
      ],
      "metadata": {
        "colab": {
          "base_uri": "https://localhost:8080/"
        },
        "id": "-wyYqYgZSeck",
        "outputId": "3a9ebbe9-c143-4fd6-f895-8e7af14889c7"
      },
      "execution_count": 14,
      "outputs": [
        {
          "output_type": "execute_result",
          "data": {
            "text/plain": [
              "(863,)"
            ]
          },
          "metadata": {},
          "execution_count": 14
        }
      ]
    },
    {
      "cell_type": "code",
      "source": [],
      "metadata": {
        "id": "5OL3vrEXSs_s"
      },
      "execution_count": null,
      "outputs": []
    },
    {
      "cell_type": "code",
      "source": [
        "from tensorflow.keras.utils import to_categorical\n",
        "y = to_categorical(y,num_classes=283)"
      ],
      "metadata": {
        "id": "rs1NPitwSgzk"
      },
      "execution_count": 15,
      "outputs": []
    },
    {
      "cell_type": "code",
      "source": [
        "y.shape"
      ],
      "metadata": {
        "colab": {
          "base_uri": "https://localhost:8080/"
        },
        "id": "iQMJ0I6xSiZf",
        "outputId": "737dc503-5138-4a2b-ff4e-c5447ae9d93e"
      },
      "execution_count": 16,
      "outputs": [
        {
          "output_type": "execute_result",
          "data": {
            "text/plain": [
              "(863, 283)"
            ]
          },
          "metadata": {},
          "execution_count": 16
        }
      ]
    },
    {
      "cell_type": "code",
      "source": [
        "from tensorflow.keras.models import Sequential\n",
        "from tensorflow.keras.layers import Embedding, LSTM, Dense"
      ],
      "metadata": {
        "id": "9kVeTvR2S8Fk"
      },
      "execution_count": 17,
      "outputs": []
    },
    {
      "cell_type": "code",
      "source": [
        "model = Sequential()\n",
        "model.add(Embedding(283, 100, input_length=56))\n",
        "model.add(LSTM(150))\n",
        "model.add(Dense(283, activation='softmax'))"
      ],
      "metadata": {
        "id": "wo-OYfHpTK2o"
      },
      "execution_count": 19,
      "outputs": []
    },
    {
      "cell_type": "code",
      "source": [
        "model.compile(loss='categorical_crossentropy', optimizer='adam',metrics=['accuracy'])"
      ],
      "metadata": {
        "id": "-GGjqh7ue_Yq"
      },
      "execution_count": 20,
      "outputs": []
    },
    {
      "cell_type": "code",
      "source": [
        "model.summary()"
      ],
      "metadata": {
        "colab": {
          "base_uri": "https://localhost:8080/"
        },
        "id": "OxxXkrSXfIBv",
        "outputId": "da80c65a-ac2c-46df-f664-5ad73f38725c"
      },
      "execution_count": 21,
      "outputs": [
        {
          "output_type": "stream",
          "name": "stdout",
          "text": [
            "Model: \"sequential_1\"\n",
            "_________________________________________________________________\n",
            " Layer (type)                Output Shape              Param #   \n",
            "=================================================================\n",
            " embedding_1 (Embedding)     (None, 56, 100)           28300     \n",
            "                                                                 \n",
            " lstm_2 (LSTM)               (None, 150)               150600    \n",
            "                                                                 \n",
            " dense (Dense)               (None, 283)               42733     \n",
            "                                                                 \n",
            "=================================================================\n",
            "Total params: 221633 (865.75 KB)\n",
            "Trainable params: 221633 (865.75 KB)\n",
            "Non-trainable params: 0 (0.00 Byte)\n",
            "_________________________________________________________________\n"
          ]
        }
      ]
    },
    {
      "cell_type": "code",
      "source": [
        "model.fit(X,y,epochs=100)"
      ],
      "metadata": {
        "colab": {
          "base_uri": "https://localhost:8080/"
        },
        "id": "LpFUCALCfJRR",
        "outputId": "10b6062c-20f0-4b0a-8fc8-aa4dc19696ee"
      },
      "execution_count": 22,
      "outputs": [
        {
          "output_type": "stream",
          "name": "stdout",
          "text": [
            "Epoch 1/100\n",
            "27/27 [==============================] - 7s 152ms/step - loss: 5.4594 - accuracy: 0.0684\n",
            "Epoch 2/100\n",
            "27/27 [==============================] - 2s 69ms/step - loss: 5.0892 - accuracy: 0.0776\n",
            "Epoch 3/100\n",
            "27/27 [==============================] - 1s 36ms/step - loss: 5.0186 - accuracy: 0.0776\n",
            "Epoch 4/100\n",
            "27/27 [==============================] - 1s 24ms/step - loss: 4.9911 - accuracy: 0.0776\n",
            "Epoch 5/100\n",
            "27/27 [==============================] - 1s 25ms/step - loss: 4.9467 - accuracy: 0.0776\n",
            "Epoch 6/100\n",
            "27/27 [==============================] - 1s 24ms/step - loss: 4.8637 - accuracy: 0.0788\n",
            "Epoch 7/100\n",
            "27/27 [==============================] - 0s 8ms/step - loss: 4.7198 - accuracy: 0.0962\n",
            "Epoch 8/100\n",
            "27/27 [==============================] - 0s 18ms/step - loss: 4.5091 - accuracy: 0.1344\n",
            "Epoch 9/100\n",
            "27/27 [==============================] - 0s 18ms/step - loss: 4.2831 - accuracy: 0.1622\n",
            "Epoch 10/100\n",
            "27/27 [==============================] - 1s 29ms/step - loss: 4.0498 - accuracy: 0.2074\n",
            "Epoch 11/100\n",
            "27/27 [==============================] - 0s 8ms/step - loss: 3.8200 - accuracy: 0.2260\n",
            "Epoch 12/100\n",
            "27/27 [==============================] - 0s 7ms/step - loss: 3.5971 - accuracy: 0.2584\n",
            "Epoch 13/100\n",
            "27/27 [==============================] - 0s 6ms/step - loss: 3.3662 - accuracy: 0.2990\n",
            "Epoch 14/100\n",
            "27/27 [==============================] - 0s 12ms/step - loss: 3.1577 - accuracy: 0.3244\n",
            "Epoch 15/100\n",
            "27/27 [==============================] - 0s 12ms/step - loss: 2.9370 - accuracy: 0.3627\n",
            "Epoch 16/100\n",
            "27/27 [==============================] - 0s 17ms/step - loss: 2.7422 - accuracy: 0.3917\n",
            "Epoch 17/100\n",
            "27/27 [==============================] - 0s 6ms/step - loss: 2.5568 - accuracy: 0.4276\n",
            "Epoch 18/100\n",
            "27/27 [==============================] - 0s 7ms/step - loss: 2.3846 - accuracy: 0.4728\n",
            "Epoch 19/100\n",
            "27/27 [==============================] - 0s 12ms/step - loss: 2.2183 - accuracy: 0.5006\n",
            "Epoch 20/100\n",
            "27/27 [==============================] - 0s 9ms/step - loss: 2.0528 - accuracy: 0.5423\n",
            "Epoch 21/100\n",
            "27/27 [==============================] - 0s 18ms/step - loss: 1.9136 - accuracy: 0.5689\n",
            "Epoch 22/100\n",
            "27/27 [==============================] - 0s 8ms/step - loss: 1.7922 - accuracy: 0.6014\n",
            "Epoch 23/100\n",
            "27/27 [==============================] - 0s 17ms/step - loss: 1.6557 - accuracy: 0.6466\n",
            "Epoch 24/100\n",
            "27/27 [==============================] - 0s 9ms/step - loss: 1.5411 - accuracy: 0.6756\n",
            "Epoch 25/100\n",
            "27/27 [==============================] - 0s 9ms/step - loss: 1.4324 - accuracy: 0.7045\n",
            "Epoch 26/100\n",
            "27/27 [==============================] - 0s 9ms/step - loss: 1.3303 - accuracy: 0.7416\n",
            "Epoch 27/100\n",
            "27/27 [==============================] - 0s 7ms/step - loss: 1.2352 - accuracy: 0.7659\n",
            "Epoch 28/100\n",
            "27/27 [==============================] - 0s 6ms/step - loss: 1.1531 - accuracy: 0.7937\n",
            "Epoch 29/100\n",
            "27/27 [==============================] - 0s 7ms/step - loss: 1.0743 - accuracy: 0.8123\n",
            "Epoch 30/100\n",
            "27/27 [==============================] - 0s 6ms/step - loss: 1.0021 - accuracy: 0.8250\n",
            "Epoch 31/100\n",
            "27/27 [==============================] - 0s 6ms/step - loss: 0.9379 - accuracy: 0.8517\n",
            "Epoch 32/100\n",
            "27/27 [==============================] - 0s 6ms/step - loss: 0.8727 - accuracy: 0.8621\n",
            "Epoch 33/100\n",
            "27/27 [==============================] - 0s 6ms/step - loss: 0.8184 - accuracy: 0.8783\n",
            "Epoch 34/100\n",
            "27/27 [==============================] - 0s 6ms/step - loss: 0.7642 - accuracy: 0.8934\n",
            "Epoch 35/100\n",
            "27/27 [==============================] - 0s 6ms/step - loss: 0.7154 - accuracy: 0.8969\n",
            "Epoch 36/100\n",
            "27/27 [==============================] - 0s 6ms/step - loss: 0.6688 - accuracy: 0.9027\n",
            "Epoch 37/100\n",
            "27/27 [==============================] - 0s 11ms/step - loss: 0.6343 - accuracy: 0.9108\n",
            "Epoch 38/100\n",
            "27/27 [==============================] - 0s 6ms/step - loss: 0.5961 - accuracy: 0.9177\n",
            "Epoch 39/100\n",
            "27/27 [==============================] - 0s 12ms/step - loss: 0.5647 - accuracy: 0.9235\n",
            "Epoch 40/100\n",
            "27/27 [==============================] - 0s 6ms/step - loss: 0.5313 - accuracy: 0.9305\n",
            "Epoch 41/100\n",
            "27/27 [==============================] - 0s 6ms/step - loss: 0.5031 - accuracy: 0.9293\n",
            "Epoch 42/100\n",
            "27/27 [==============================] - 0s 6ms/step - loss: 0.4770 - accuracy: 0.9293\n",
            "Epoch 43/100\n",
            "27/27 [==============================] - 0s 6ms/step - loss: 0.4561 - accuracy: 0.9270\n",
            "Epoch 44/100\n",
            "27/27 [==============================] - 0s 6ms/step - loss: 0.4308 - accuracy: 0.9351\n",
            "Epoch 45/100\n",
            "27/27 [==============================] - 0s 6ms/step - loss: 0.4126 - accuracy: 0.9340\n",
            "Epoch 46/100\n",
            "27/27 [==============================] - 0s 7ms/step - loss: 0.3923 - accuracy: 0.9363\n",
            "Epoch 47/100\n",
            "27/27 [==============================] - 0s 6ms/step - loss: 0.3765 - accuracy: 0.9363\n",
            "Epoch 48/100\n",
            "27/27 [==============================] - 0s 6ms/step - loss: 0.3591 - accuracy: 0.9409\n",
            "Epoch 49/100\n",
            "27/27 [==============================] - 0s 6ms/step - loss: 0.3456 - accuracy: 0.9386\n",
            "Epoch 50/100\n",
            "27/27 [==============================] - 0s 6ms/step - loss: 0.3328 - accuracy: 0.9363\n",
            "Epoch 51/100\n",
            "27/27 [==============================] - 0s 6ms/step - loss: 0.3177 - accuracy: 0.9386\n",
            "Epoch 52/100\n",
            "27/27 [==============================] - 0s 6ms/step - loss: 0.3047 - accuracy: 0.9409\n",
            "Epoch 53/100\n",
            "27/27 [==============================] - 0s 6ms/step - loss: 0.2932 - accuracy: 0.9409\n",
            "Epoch 54/100\n",
            "27/27 [==============================] - 0s 6ms/step - loss: 0.2836 - accuracy: 0.9421\n",
            "Epoch 55/100\n",
            "27/27 [==============================] - 0s 12ms/step - loss: 0.2753 - accuracy: 0.9444\n",
            "Epoch 56/100\n",
            "27/27 [==============================] - 0s 6ms/step - loss: 0.2658 - accuracy: 0.9455\n",
            "Epoch 57/100\n",
            "27/27 [==============================] - 0s 7ms/step - loss: 0.2594 - accuracy: 0.9421\n",
            "Epoch 58/100\n",
            "27/27 [==============================] - 0s 6ms/step - loss: 0.2538 - accuracy: 0.9397\n",
            "Epoch 59/100\n",
            "27/27 [==============================] - 0s 6ms/step - loss: 0.2468 - accuracy: 0.9421\n",
            "Epoch 60/100\n",
            "27/27 [==============================] - 0s 6ms/step - loss: 0.2391 - accuracy: 0.9432\n",
            "Epoch 61/100\n",
            "27/27 [==============================] - 0s 12ms/step - loss: 0.2300 - accuracy: 0.9455\n",
            "Epoch 62/100\n",
            "27/27 [==============================] - 0s 7ms/step - loss: 0.2271 - accuracy: 0.9502\n",
            "Epoch 63/100\n",
            "27/27 [==============================] - 0s 6ms/step - loss: 0.2202 - accuracy: 0.9455\n",
            "Epoch 64/100\n",
            "27/27 [==============================] - 0s 12ms/step - loss: 0.2138 - accuracy: 0.9432\n",
            "Epoch 65/100\n",
            "27/27 [==============================] - 0s 6ms/step - loss: 0.2087 - accuracy: 0.9444\n",
            "Epoch 66/100\n",
            "27/27 [==============================] - 0s 6ms/step - loss: 0.2056 - accuracy: 0.9421\n",
            "Epoch 67/100\n",
            "27/27 [==============================] - 0s 7ms/step - loss: 0.1997 - accuracy: 0.9467\n",
            "Epoch 68/100\n",
            "27/27 [==============================] - 0s 6ms/step - loss: 0.1975 - accuracy: 0.9455\n",
            "Epoch 69/100\n",
            "27/27 [==============================] - 0s 11ms/step - loss: 0.1943 - accuracy: 0.9432\n",
            "Epoch 70/100\n",
            "27/27 [==============================] - 0s 6ms/step - loss: 0.1895 - accuracy: 0.9432\n",
            "Epoch 71/100\n",
            "27/27 [==============================] - 0s 6ms/step - loss: 0.1871 - accuracy: 0.9421\n",
            "Epoch 72/100\n",
            "27/27 [==============================] - 0s 6ms/step - loss: 0.1822 - accuracy: 0.9467\n",
            "Epoch 73/100\n",
            "27/27 [==============================] - 0s 6ms/step - loss: 0.1814 - accuracy: 0.9444\n",
            "Epoch 74/100\n",
            "27/27 [==============================] - 0s 6ms/step - loss: 0.1787 - accuracy: 0.9444\n",
            "Epoch 75/100\n",
            "27/27 [==============================] - 0s 6ms/step - loss: 0.1742 - accuracy: 0.9455\n",
            "Epoch 76/100\n",
            "27/27 [==============================] - 0s 6ms/step - loss: 0.1707 - accuracy: 0.9455\n",
            "Epoch 77/100\n",
            "27/27 [==============================] - 0s 7ms/step - loss: 0.1687 - accuracy: 0.9479\n",
            "Epoch 78/100\n",
            "27/27 [==============================] - 0s 7ms/step - loss: 0.1655 - accuracy: 0.9432\n",
            "Epoch 79/100\n",
            "27/27 [==============================] - 0s 6ms/step - loss: 0.1645 - accuracy: 0.9444\n",
            "Epoch 80/100\n",
            "27/27 [==============================] - 0s 16ms/step - loss: 0.1613 - accuracy: 0.9444\n",
            "Epoch 81/100\n",
            "27/27 [==============================] - 0s 9ms/step - loss: 0.1616 - accuracy: 0.9455\n",
            "Epoch 82/100\n",
            "27/27 [==============================] - 0s 9ms/step - loss: 0.1571 - accuracy: 0.9444\n",
            "Epoch 83/100\n",
            "27/27 [==============================] - 0s 8ms/step - loss: 0.1579 - accuracy: 0.9386\n",
            "Epoch 84/100\n",
            "27/27 [==============================] - 0s 8ms/step - loss: 0.1546 - accuracy: 0.9455\n",
            "Epoch 85/100\n",
            "27/27 [==============================] - 0s 9ms/step - loss: 0.1512 - accuracy: 0.9421\n",
            "Epoch 86/100\n",
            "27/27 [==============================] - 0s 9ms/step - loss: 0.1527 - accuracy: 0.9467\n",
            "Epoch 87/100\n",
            "27/27 [==============================] - 0s 9ms/step - loss: 0.1493 - accuracy: 0.9444\n",
            "Epoch 88/100\n",
            "27/27 [==============================] - 0s 9ms/step - loss: 0.1486 - accuracy: 0.9490\n",
            "Epoch 89/100\n",
            "27/27 [==============================] - 0s 6ms/step - loss: 0.1468 - accuracy: 0.9432\n",
            "Epoch 90/100\n",
            "27/27 [==============================] - 0s 6ms/step - loss: 0.1478 - accuracy: 0.9397\n",
            "Epoch 91/100\n",
            "27/27 [==============================] - 0s 6ms/step - loss: 0.1431 - accuracy: 0.9432\n",
            "Epoch 92/100\n",
            "27/27 [==============================] - 0s 11ms/step - loss: 0.1444 - accuracy: 0.9432\n",
            "Epoch 93/100\n",
            "27/27 [==============================] - 0s 6ms/step - loss: 0.1408 - accuracy: 0.9421\n",
            "Epoch 94/100\n",
            "27/27 [==============================] - 0s 6ms/step - loss: 0.1404 - accuracy: 0.9444\n",
            "Epoch 95/100\n",
            "27/27 [==============================] - 0s 6ms/step - loss: 0.1397 - accuracy: 0.9409\n",
            "Epoch 96/100\n",
            "27/27 [==============================] - 0s 6ms/step - loss: 0.1373 - accuracy: 0.9421\n",
            "Epoch 97/100\n",
            "27/27 [==============================] - 0s 6ms/step - loss: 0.1413 - accuracy: 0.9374\n",
            "Epoch 98/100\n",
            "27/27 [==============================] - 0s 7ms/step - loss: 0.1390 - accuracy: 0.9455\n",
            "Epoch 99/100\n",
            "27/27 [==============================] - 0s 6ms/step - loss: 0.1362 - accuracy: 0.9421\n",
            "Epoch 100/100\n",
            "27/27 [==============================] - 0s 6ms/step - loss: 0.1349 - accuracy: 0.9455\n"
          ]
        },
        {
          "output_type": "execute_result",
          "data": {
            "text/plain": [
              "<keras.src.callbacks.History at 0x79b5481eda50>"
            ]
          },
          "metadata": {},
          "execution_count": 22
        }
      ]
    },
    {
      "cell_type": "code",
      "source": [
        "import time\n",
        "text = \"what is the fee\"\n",
        "\n",
        "for i in range(10):\n",
        "  # tokenize\n",
        "  token_text = tokenizer.texts_to_sequences([text])[0]\n",
        "  # padding\n",
        "  padded_token_text = pad_sequences([token_text], maxlen=56, padding='pre')\n",
        "  # predict\n",
        "  pos = np.argmax(model.predict(padded_token_text))\n",
        "\n",
        "  for word,index in tokenizer.word_index.items():\n",
        "    if index == pos:\n",
        "      text = text + \" \" + word\n",
        "      print(text)\n",
        "      time.sleep(2)"
      ],
      "metadata": {
        "colab": {
          "base_uri": "https://localhost:8080/"
        },
        "id": "PGeYGwCMfTus",
        "outputId": "8d7dd6c0-f302-4ea8-8844-88fdb1cb3477"
      },
      "execution_count": 27,
      "outputs": [
        {
          "output_type": "stream",
          "name": "stdout",
          "text": [
            "1/1 [==============================] - 0s 18ms/step\n",
            "what is the fee of\n",
            "1/1 [==============================] - 0s 29ms/step\n",
            "what is the fee of monthly\n",
            "1/1 [==============================] - 0s 17ms/step\n",
            "what is the fee of monthly subscription\n",
            "1/1 [==============================] - 0s 23ms/step\n",
            "what is the fee of monthly subscription suppose\n",
            "1/1 [==============================] - 0s 18ms/step\n",
            "what is the fee of monthly subscription suppose if\n",
            "1/1 [==============================] - 0s 18ms/step\n",
            "what is the fee of monthly subscription suppose if i\n",
            "1/1 [==============================] - 0s 18ms/step\n",
            "what is the fee of monthly subscription suppose if i pay\n",
            "1/1 [==============================] - 0s 18ms/step\n",
            "what is the fee of monthly subscription suppose if i pay on\n",
            "1/1 [==============================] - 0s 20ms/step\n",
            "what is the fee of monthly subscription suppose if i pay on 15th\n",
            "1/1 [==============================] - 0s 17ms/step\n",
            "what is the fee of monthly subscription suppose if i pay on 15th jan\n"
          ]
        }
      ]
    },
    {
      "cell_type": "code",
      "source": [
        "tokenizer.word_index"
      ],
      "metadata": {
        "id": "TTxsj-_CjbQW"
      },
      "execution_count": null,
      "outputs": []
    },
    {
      "cell_type": "code",
      "source": [
        "import numpy as np"
      ],
      "metadata": {
        "id": "92y7gE6pj9EZ"
      },
      "execution_count": 25,
      "outputs": []
    },
    {
      "cell_type": "code",
      "source": [
        "pos = np.argmax(model.predict(padded_token_text))"
      ],
      "metadata": {
        "id": "uhIUuGCe4BKs",
        "outputId": "3deea27c-4ad7-4b84-d9af-60bdae009d4f",
        "colab": {
          "base_uri": "https://localhost:8080/"
        }
      },
      "execution_count": 26,
      "outputs": [
        {
          "output_type": "stream",
          "name": "stdout",
          "text": [
            "1/1 [==============================] - 0s 439ms/step\n"
          ]
        }
      ]
    },
    {
      "cell_type": "code",
      "source": [],
      "metadata": {
        "id": "V8p3HoTQ4CXv"
      },
      "execution_count": null,
      "outputs": []
    }
  ]
}